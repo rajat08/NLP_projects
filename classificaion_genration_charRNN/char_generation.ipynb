{
 "cells": [
  {
   "cell_type": "markdown",
   "metadata": {
    "colab_type": "text",
    "id": "j2A3pym-53gl"
   },
   "source": [
    "![](https://i.imgur.com/eBRPvWB.png)\n",
    "\n",
    "# Practical PyTorch: Generating Shakespeare with a Character-Level RNN\n",
    "\n",
    "[In the RNN classification tutorial](https://github.com/spro/practical-pytorch/blob/master/char-rnn-classification/char-rnn-classification.ipynb) we used a RNN to classify text one character at a time. This time we'll generate text one character at a time.\n",
    "\n",
    "```\n",
    "> python generate.py -n 500\n",
    "\n",
    "PAOLTREDN:\n",
    "Let, yil exter shis owrach we so sain, fleas,\n",
    "Be wast the shall deas, puty sonse my sheete.\n",
    "\n",
    "BAUFIO:\n",
    "Sirh carrow out with the knonuot my comest sifard queences\n",
    "O all a man unterd.\n",
    "\n",
    "PROMENSJO:\n",
    "Ay, I to Heron, I sack, againous; bepear, Butch,\n",
    "An as shalp will of that seal think.\n",
    "\n",
    "NUKINUS:\n",
    "And house it to thee word off hee:\n",
    "And thou charrota the son hange of that shall denthand\n",
    "For the say hor you are of I folles muth me?\n",
    "```\n",
    "\n",
    "This one might make you question the series title &mdash; \"is that really practical?\" However, these sorts of generative models form the basis of machine translation, image captioning, question answering and more. See the [Sequence to Sequence Translation tutorial](https://github.com/spro/practical-pytorch/blob/master/seq2seq-translation/seq2seq-translation.ipynb) for more on that topic."
   ]
  },
  {
   "cell_type": "markdown",
   "metadata": {
    "colab_type": "text",
    "id": "TH9CbJsP53go"
   },
   "source": [
    "# Recommended Reading\n",
    "\n",
    "I assume you have at least installed PyTorch, know Python, and understand Tensors:\n",
    "\n",
    "* http://pytorch.org/ For installation instructions\n",
    "* [Deep Learning with PyTorch: A 60-minute Blitz](https://github.com/pytorch/tutorials/blob/master/Deep%20Learning%20with%20PyTorch.ipynb) to get started with PyTorch in general\n",
    "* [jcjohnson's PyTorch examples](https://github.com/jcjohnson/pytorch-examples) for an in depth overview\n",
    "* [Introduction to PyTorch for former Torchies](https://github.com/pytorch/tutorials/blob/master/Introduction%20to%20PyTorch%20for%20former%20Torchies.ipynb) if you are former Lua Torch user\n",
    "\n",
    "It would also be useful to know about RNNs and how they work:\n",
    "\n",
    "* [The Unreasonable Effectiveness of Recurrent Neural Networks](http://karpathy.github.io/2015/05/21/rnn-effectiveness/) shows a bunch of real life examples\n",
    "* [Understanding LSTM Networks](http://colah.github.io/posts/2015-08-Understanding-LSTMs/) is about LSTMs specifically but also informative about RNNs in general\n",
    "\n",
    "Also see these related tutorials from the series:\n",
    "\n",
    "* [Classifying Names with a Character-Level RNN](https://github.com/spro/practical-pytorch/blob/master/char-rnn-classification/char-rnn-classification.ipynb) uses an RNN for classification\n",
    "* [Generating Names with a Conditional Character-Level RNN](https://github.com/spro/practical-pytorch/blob/master/conditional-char-rnn/conditional-char-rnn.ipynb) builds on this model to add a category as input"
   ]
  },
  {
   "cell_type": "markdown",
   "metadata": {
    "colab_type": "text",
    "id": "GYxWZoso53gs"
   },
   "source": [
    "# Prepare data\n",
    "\n",
    "The file we are using is a plain text file. We turn any potential unicode characters into plain ASCII by using the `unidecode` package (which you can install via `pip` or `conda`)."
   ]
  },
  {
   "cell_type": "code",
   "execution_count": 145,
   "metadata": {
    "colab": {
     "base_uri": "https://localhost:8080/",
     "height": 34
    },
    "colab_type": "code",
    "id": "EVbsKAQw62f7",
    "outputId": "63aacc34-e1fc-47de-ab4c-67a1fb6bf14e"
   },
   "outputs": [
    {
     "name": "stdout",
     "output_type": "stream",
     "text": [
      "Requirement already satisfied: unidecode in /usr/local/lib/python3.6/dist-packages (1.1.1)\n"
     ]
    }
   ],
   "source": [
    "!pip install unidecode"
   ]
  },
  {
   "cell_type": "code",
   "execution_count": 146,
   "metadata": {
    "colab": {
     "base_uri": "https://localhost:8080/",
     "height": 34
    },
    "colab_type": "code",
    "id": "fvE_7uwtG8Iq",
    "outputId": "a32fe5d8-bdac-41aa-91d9-e8dd0c10e26a"
   },
   "outputs": [
    {
     "name": "stdout",
     "output_type": "stream",
     "text": [
      "Drive already mounted at /content/drive; to attempt to forcibly remount, call drive.mount(\"/content/drive\", force_remount=True).\n"
     ]
    }
   ],
   "source": [
    "from google.colab import drive\n",
    "drive.mount('/content/drive')"
   ]
  },
  {
   "cell_type": "code",
   "execution_count": 2,
   "metadata": {
    "colab": {
     "base_uri": "https://localhost:8080/",
     "height": 34
    },
    "colab_type": "code",
    "id": "WPhmbYFQ53gw",
    "outputId": "7c774aab-d2f1-4004-d446-47d574a4f6ce"
   },
   "outputs": [
    {
     "name": "stdout",
     "output_type": "stream",
     "text": [
      "file_len = 893170\n"
     ]
    }
   ],
   "source": [
    "import unidecode\n",
    "import string\n",
    "import random\n",
    "import re\n",
    "import numpy as np\n",
    "\n",
    "all_characters = string.printable\n",
    "n_characters = len(all_characters)\n",
    "\n",
    "\n",
    "file = unidecode.unidecode(open('data/speeches.txt').read())\n",
    "#file = unidecode.unidecode(open('drive/My Drive/Colab Notebooks/speeches.txt').read())\n",
    "file = re.sub(\"SPEECH\\s+\\d+\", \"\", file)  # Remove the speech headers\n",
    "file = re.sub(\"\\n+\", \"\\n\", file)\n",
    "file = re.sub(\"\\d+\\\\\\d+\\\\\\d+\", \"\", file)  # Remove the dates\n",
    "file = re.sub(\" +\", \" \", file)\n",
    "file =' '.join(file.splitlines())\n",
    "file_len = len(file)\n",
    "print('file_len =', file_len)"
   ]
  },
  {
   "cell_type": "markdown",
   "metadata": {
    "colab_type": "text",
    "id": "AkgF27wp53hA"
   },
   "source": [
    "To make inputs out of this big string of data, we will be splitting it into chunks."
   ]
  },
  {
   "cell_type": "code",
   "execution_count": 6,
   "metadata": {
    "colab": {
     "base_uri": "https://localhost:8080/",
     "height": 54
    },
    "colab_type": "code",
    "id": "ZHXGvpYs53hD",
    "outputId": "caf6f3c9-3b8a-4b76-fbe0-6993de622808"
   },
   "outputs": [
    {
     "name": "stdout",
     "output_type": "stream",
     "text": [
      " said that Brexit's going to happen. I said that they are going to break away. And everybody laughed at me. And the odds were 20 percent. And then when it happened, she took an ad saying, oh, Donald Tr\n"
     ]
    }
   ],
   "source": [
    "chunk_len = 200\n",
    "\n",
    "def random_chunk():\n",
    "    start_index = random.randint(0, file_len - chunk_len)\n",
    "    end_index = start_index + chunk_len + 1\n",
    "    return file[start_index:end_index]\n",
    "\n",
    "print(random_chunk())\n"
   ]
  },
  {
   "cell_type": "markdown",
   "metadata": {
    "colab_type": "text",
    "id": "Vi_pL3StxbSV"
   },
   "source": [
    "Creating similar validation set"
   ]
  },
  {
   "cell_type": "code",
   "execution_count": 149,
   "metadata": {
    "colab": {
     "base_uri": "https://localhost:8080/",
     "height": 54
    },
    "colab_type": "code",
    "id": "oBHf1OJvjeVS",
    "outputId": "95ec708c-5750-4493-e7f8-3bdd83b9cdd0"
   },
   "outputs": [
    {
     "name": "stdout",
     "output_type": "stream",
     "text": [
      " why aren't our politicians finding out where those e-mails are? They talk about executive orders and they talk about immigration and they talk about oh well we have to stop the border; that's the end \n"
     ]
    }
   ],
   "source": [
    "similar_val_set = []\n",
    "val_start_index = 5000\n",
    "for i in range(200):\n",
    "    val_end_index = val_start_index + chunk_len + 1\n",
    "    similar_val_set.append(file[val_start_index:val_end_index])\n",
    "    val_start_index = val_end_index\n",
    "print(similar_val_set[0])"
   ]
  },
  {
   "cell_type": "markdown",
   "metadata": {
    "colab_type": "text",
    "id": "JJ5WIf0SxgIZ"
   },
   "source": [
    "Creating different validation set"
   ]
  },
  {
   "cell_type": "code",
   "execution_count": 7,
   "metadata": {
    "colab": {
     "base_uri": "https://localhost:8080/",
     "height": 86
    },
    "colab_type": "code",
    "id": "yk3tI1ocxjW7",
    "outputId": "92724a27-5fd2-4675-e15a-8af68477fb9b"
   },
   "outputs": [
    {
     "name": "stdout",
     "output_type": "stream",
     "text": [
      "father to be\n",
      "proceeding, his friends to be urging him.  She considered it as an act\n",
      "of indispensable duty to clear away the claims of creditors with all\n",
      "the expedition which the most comprehensive retr\n"
     ]
    }
   ],
   "source": [
    "diff_val_set = []\n",
    "# with open('drive/My Drive/Colab Notebooks/jane_austen.txt',encoding='utf-8',errors='ignore') as f:\n",
    "#     file_2 = f.read()\n",
    "\n",
    "\n",
    "with open('data/jane_austen.txt',encoding='utf-8',errors='ignore') as f:\n",
    "    file_2 = f.read()\n",
    "\n",
    "val_start_index = 20000\n",
    "for i in range(200):\n",
    "    val_end_index = val_start_index + chunk_len + 1\n",
    "    diff_val_set.append(file_2[val_start_index:val_end_index])\n",
    "    val_start_index = val_end_index\n",
    "print(diff_val_set[0])"
   ]
  },
  {
   "cell_type": "markdown",
   "metadata": {
    "colab_type": "text",
    "id": "_02Grdqs53hP"
   },
   "source": [
    "# Build the Model\n",
    "\n",
    "This model will take as input the character for step $t_{-1}$ and is expected to output the next character $t$. There are three layers - one linear layer that encodes the input character into an internal state, one GRU layer (which may itself have multiple layers) that operates on that internal state and a hidden state, and a decoder layer that outputs the probability distribution."
   ]
  },
  {
   "cell_type": "code",
   "execution_count": 0,
   "metadata": {
    "colab": {},
    "colab_type": "code",
    "id": "-g-KR8EW53hQ"
   },
   "outputs": [],
   "source": [
    "import torch\n",
    "import torch.nn as nn\n",
    "from torch.autograd import Variable\n",
    "\n",
    "class RNN(nn.Module):\n",
    "    def __init__(self, input_size, hidden_size, output_size, n_layers=1):\n",
    "        super(RNN, self).__init__()\n",
    "        self.input_size = input_size\n",
    "        self.hidden_size = hidden_size\n",
    "        self.output_size = output_size\n",
    "        self.n_layers = n_layers\n",
    "        \n",
    "        self.encoder = nn.Embedding(input_size, hidden_size)\n",
    "        self.gru = nn.GRU(hidden_size, hidden_size, n_layers)\n",
    "        self.decoder = nn.Linear(hidden_size, output_size)\n",
    "    \n",
    "    def forward(self, input, hidden):\n",
    "        input = self.encoder(input.view(1, -1))\n",
    "        output, hidden = self.gru(input.view(1, 1, -1), hidden)\n",
    "        output = self.decoder(output.view(1, -1))\n",
    "        return output, hidden\n",
    "\n",
    "    def init_hidden(self):\n",
    "        return Variable(torch.zeros(self.n_layers, 1, self.hidden_size))"
   ]
  },
  {
   "cell_type": "markdown",
   "metadata": {
    "colab_type": "text",
    "id": "OpoTle2T53hW"
   },
   "source": [
    "# Inputs and Targets"
   ]
  },
  {
   "cell_type": "markdown",
   "metadata": {
    "colab_type": "text",
    "id": "6LTDzsbw53hX"
   },
   "source": [
    "Each chunk will be turned into a tensor, specifically a `LongTensor` (used for integer values), by looping through the characters of the string and looking up the index of each character in `all_characters`."
   ]
  },
  {
   "cell_type": "code",
   "execution_count": 152,
   "metadata": {
    "colab": {
     "base_uri": "https://localhost:8080/",
     "height": 34
    },
    "colab_type": "code",
    "id": "ANC7JcKr53hY",
    "outputId": "81f3dc4e-293c-4b01-b57d-639b9a69bbdf"
   },
   "outputs": [
    {
     "name": "stdout",
     "output_type": "stream",
     "text": [
      "tensor([10, 11, 12, 39, 40, 41])\n"
     ]
    }
   ],
   "source": [
    "# Turn string into list of longs\n",
    "def char_tensor(string):\n",
    "    tensor = torch.zeros(len(string)).long()\n",
    "    for c in range(len(string)):\n",
    "        tensor[c] = all_characters.index(string[c])\n",
    "    return Variable(tensor)\n",
    "\n",
    "print(char_tensor('abcDEF'))"
   ]
  },
  {
   "cell_type": "markdown",
   "metadata": {
    "colab_type": "text",
    "id": "V1ECpJe053hj"
   },
   "source": [
    "Finally we can assemble a pair of input and target tensors for training, from a random chunk. The input will be all characters *up to the last*, and the target will be all characters *from the first*. So if our chunk is \"abc\" the input will correspond to \"ab\" while the target is \"bc\"."
   ]
  },
  {
   "cell_type": "code",
   "execution_count": 0,
   "metadata": {
    "colab": {},
    "colab_type": "code",
    "id": "HNFqAkST53hl"
   },
   "outputs": [],
   "source": [
    "def random_training_set():    \n",
    "    chunk = random_chunk()\n",
    "    inp = char_tensor(chunk[:-1])\n",
    "    target = char_tensor(chunk[1:])\n",
    "    return inp, target"
   ]
  },
  {
   "cell_type": "markdown",
   "metadata": {
    "colab_type": "text",
    "id": "T3jEU1Ca53ht"
   },
   "source": [
    "# Evaluating\n",
    "\n",
    "To evaluate the network we will feed one character at a time, use the outputs of the network as a probability distribution for the next character, and repeat. To start generation we pass a priming string to start building up the hidden state, from which we then generate one character at a time."
   ]
  },
  {
   "cell_type": "code",
   "execution_count": 0,
   "metadata": {
    "colab": {},
    "colab_type": "code",
    "id": "CH3FCOyW53hy"
   },
   "outputs": [],
   "source": [
    "def evaluate(prime_str='A', predict_len=100, temperature=0.8):\n",
    "    hidden = decoder.init_hidden()\n",
    "    prime_input = char_tensor(prime_str)\n",
    "    predicted = prime_str\n",
    "\n",
    "    # Use priming string to \"build up\" hidden state\n",
    "    for p in range(len(prime_str) - 1):\n",
    "        _, hidden = decoder(prime_input[p], hidden)\n",
    "    inp = prime_input[-1]\n",
    "    \n",
    "    for p in range(predict_len):\n",
    "        output, hidden = decoder(inp, hidden)\n",
    "        \n",
    "        # Sample from the network as a multinomial distribution\n",
    "        output_dist = output.data.view(-1).div(temperature).exp()\n",
    "        top_i = torch.multinomial(output_dist, 1)[0]\n",
    "        \n",
    "        # Add predicted character to string and use as next input\n",
    "        predicted_char = all_characters[top_i]\n",
    "        predicted += predicted_char\n",
    "        inp = char_tensor(predicted_char)\n",
    "\n",
    "    return predicted"
   ]
  },
  {
   "cell_type": "markdown",
   "metadata": {
    "colab_type": "text",
    "id": "ZvYPc1Hg53h3"
   },
   "source": [
    "# Training"
   ]
  },
  {
   "cell_type": "markdown",
   "metadata": {
    "colab_type": "text",
    "id": "DYhJmhuS53h3"
   },
   "source": [
    "A helper to print the amount of time passed:"
   ]
  },
  {
   "cell_type": "code",
   "execution_count": 0,
   "metadata": {
    "colab": {},
    "colab_type": "code",
    "id": "azkZgceJ53h4"
   },
   "outputs": [],
   "source": [
    "import time, math\n",
    "\n",
    "def time_since(since):\n",
    "    s = time.time() - since\n",
    "    m = math.floor(s / 60)\n",
    "    s -= m * 60\n",
    "    return '%dm %ds' % (m, s)"
   ]
  },
  {
   "cell_type": "markdown",
   "metadata": {
    "colab_type": "text",
    "id": "sHKUPrQY53h-"
   },
   "source": [
    "The main training function"
   ]
  },
  {
   "cell_type": "code",
   "execution_count": 0,
   "metadata": {
    "colab": {},
    "colab_type": "code",
    "id": "B4EyielG53h_"
   },
   "outputs": [],
   "source": [
    "def train(inp, target):\n",
    "    hidden = decoder.init_hidden()\n",
    "    decoder.zero_grad()\n",
    "    loss = 0\n",
    "    #print(inp,target)\n",
    "    for c in range(chunk_len):\n",
    "        output, hidden = decoder(inp[c], hidden)\n",
    "        loss += criterion(output, target[c].unsqueeze(0))\n",
    "\n",
    "    loss.backward()\n",
    "    decoder_optimizer.step()\n",
    "\n",
    "    return loss.data.item() / chunk_len"
   ]
  },
  {
   "cell_type": "code",
   "execution_count": 0,
   "metadata": {
    "colab": {},
    "colab_type": "code",
    "id": "WYA6WhDAU9_i"
   },
   "outputs": [],
   "source": [
    "# generally when we calculate perplexity by taking exponent of the loss ,but in this character level rnn ,we are not going to take exponents of every character rather averaging \n",
    "# them out and then averaging out over the chunks\n",
    "def get_perplexity(validation_set):\n",
    "    p = 0\n",
    "    for chunk in validation_set:\n",
    "        hidden = decoder.init_hidden()\n",
    "        chunk_loss = 0\n",
    "        inp = char_tensor(chunk[:-1])\n",
    "        target = char_tensor(chunk[1:])\n",
    "        for c in range(chunk_len):  \n",
    "            output, hidden = decoder(inp[c], hidden)\n",
    "            chunk_loss += criterion(output, target[c].unsqueeze(0))\n",
    "        p = p + np.exp((chunk_loss/chunk_len).data.item())\n",
    "    avg_perplexity = p/len(validation_set)\n",
    "    return avg_perplexity"
   ]
  },
  {
   "cell_type": "markdown",
   "metadata": {
    "colab_type": "text",
    "id": "TmbIWwk753iG"
   },
   "source": [
    "Then we define the training parameters, instantiate the model, and start training:"
   ]
  },
  {
   "cell_type": "code",
   "execution_count": 158,
   "metadata": {
    "colab": {
     "base_uri": "https://localhost:8080/",
     "height": 1000
    },
    "colab_type": "code",
    "id": "3SzqPIRjynpv",
    "outputId": "67e2a334-439b-4fb8-c5df-aba771d58812",
    "scrolled": false
   },
   "outputs": [
    {
     "name": "stdout",
     "output_type": "stream",
     "text": [
      "[0m 13s (100 5%) 2.3425]\n",
      "Perplexity : 11.192438511535299\n",
      "Whe. wedls, rer W. I Tiny gore din goabilc thing thacaithig the ary a ogtianke thaiy sant taut the the \n",
      "\n",
      "[0m 39s (200 10%) 2.2341]\n",
      "Perplexity : 9.550013886515126\n",
      "Whs go menatell. Oon ow, the us hat wat. I they wiveoll to a secthery. Thingid way didaingopent to gor \n",
      "\n",
      "[1m 4s (300 15%) 1.9608]\n",
      "Perplexity : 8.435203606575298\n",
      "Wh}enting zake and betrss. The taon fere then more as sing bl. I gothead thom yol. We coip. We kessino \n",
      "\n",
      "[1m 31s (400 20%) 1.9826]\n",
      "Perplexity : 7.803039320414591\n",
      "Wh. Iv't dighs ther'm to so with evencaus. I And doodd wact wo wit that kat that out koud have ring th \n",
      "\n",
      "[1m 57s (500 25%) 1.7678]\n",
      "Perplexity : 7.385696775531398\n",
      "Wh. We do mesple sore preople becon allit. ne- memould plenisusser of to be conbal. And Amen. So cout  \n",
      "\n",
      "[2m 23s (600 30%) 1.4868]\n",
      "Perplexity : 6.907227423328348\n",
      "Wh don't sorly monery and in the's a people inth we monow say the whorly int hill concry up.S.. I me w \n",
      "\n",
      "[2m 49s (700 35%) 2.0547]\n",
      "Perplexity : 6.77399926778095\n",
      "Wha's gone on I gom ime fortory that wame hat and think I don he ofere the next it in the ging tent an \n",
      "\n",
      "[3m 15s (800 40%) 1.8763]\n",
      "Perplexity : 6.54953090399594\n",
      "Whough wiome's now lot the can't never say wret of the caup all up we're last inastralt dogling this w \n",
      "\n",
      "[3m 41s (900 45%) 1.4050]\n",
      "Perplexity : 6.392931299533355\n",
      "Whank on a wats for or the Creagare the have to serer. They just so it. And you ones I don't whe You e \n",
      "\n",
      "[4m 7s (1000 50%) 1.4265]\n",
      "Perplexity : 6.244691296782982\n",
      "What for trade mean, thieve said, maned a go, that won't a deally at fatilling to gunt it. Don't mone  \n",
      "\n",
      "[4m 33s (1100 55%) 2.3001]\n",
      "Perplexity : 6.059482949211908\n",
      "Wh, the :illo the was the deen the nemerico he not back - theak the wall is can Une's that you cas wit \n",
      "\n",
      "[4m 58s (1200 60%) 2.0927]\n",
      "Perplexity : 6.009189343554361\n",
      "Whe cane ware look and and the talig to be get the silitile a stack talks. We has word. I worbs me. Th \n",
      "\n",
      "[5m 24s (1300 65%) 1.5162]\n",
      "Perplexity : 5.845659204918019\n",
      "Whank I diver he was go make that leind aft me if eacine molst be theer siking the cow. You last it wh \n",
      "\n",
      "[5m 49s (1400 70%) 1.8311]\n",
      "Perplexity : 5.805033825622218\n",
      "Wh? You know, mabe you the are thing of erpay, and of the don't recluve to said. I was no, \"I've some  \n",
      "\n",
      "[6m 14s (1500 75%) 1.3328]\n",
      "Perplexity : 5.749808802542974\n",
      "Whay. Why supleiving Americe I said I don't havangers of we're going to know, that's want to it fan ou \n",
      "\n",
      "[6m 40s (1600 80%) 1.7656]\n",
      "Perplexity : 5.6872671907516725\n",
      "Whe not here and ever. Anght says they're getury, not somelit we ad for peace. I that's ve do ons of p \n",
      "\n",
      "[7m 6s (1700 85%) 1.5919]\n",
      "Perplexity : 5.629845254782266\n",
      "Whe count. I'm ruble to so litesdirans that want to said as but in like lillion. The Right simes (uppi \n",
      "\n",
      "[7m 32s (1800 90%) 1.4621]\n",
      "Perplexity : 5.583912007238138\n",
      "Whable again it what every reath that with it's as to be was our could and Iran look that. It love who \n",
      "\n",
      "[7m 57s (1900 95%) 1.3758]\n",
      "Perplexity : 5.526807202378659\n",
      "Whobsion Sest polieve. I ment he eress. No, on I'm get the going in, they lives its a lot the he wors  \n",
      "\n",
      "[8m 23s (2000 100%) 1.7231]\n",
      "Perplexity : 5.412911452077031\n",
      "Who many our pody. They is a milger the be to my say by and who money. And horete in the better this - \n",
      "\n"
     ]
    }
   ],
   "source": [
    "n_epochs = 2000\n",
    "print_every = 100\n",
    "plot_every = 10\n",
    "hidden_size = 100\n",
    "n_layers = 1\n",
    "lr = 0.002\n",
    "\n",
    "decoder = RNN(n_characters, hidden_size, n_characters, n_layers)\n",
    "decoder_optimizer = torch.optim.Adam(decoder.parameters(), lr=lr)\n",
    "criterion = nn.CrossEntropyLoss()\n",
    "\n",
    "start = time.time()\n",
    "all_losses = []\n",
    "loss_avg = 0\n",
    "\n",
    "for epoch in range(1, n_epochs + 1):\n",
    "    loss = train(*random_training_set())       \n",
    "    loss_avg += loss\n",
    "\n",
    "    if epoch % print_every == 0:\n",
    "        print('[%s (%d %d%%) %.4f]' % (time_since(start), epoch, epoch / n_epochs * 100, loss))\n",
    "        print(\"Perplexity : \" + str(get_perplexity(similar_val_set)))\n",
    "        print(evaluate('Wh', 100), '\\n')\n",
    "\n",
    "    if epoch % plot_every == 0:\n",
    "        all_losses.append(loss_avg / plot_every)\n",
    "        loss_avg = 0"
   ]
  },
  {
   "cell_type": "markdown",
   "metadata": {
    "colab_type": "text",
    "id": "p3h30kU653iO"
   },
   "source": [
    "# Plotting the Training Losses\n",
    "\n",
    "Plotting the historical loss from all_losses shows the network learning:"
   ]
  },
  {
   "cell_type": "code",
   "execution_count": 159,
   "metadata": {
    "colab": {
     "base_uri": "https://localhost:8080/",
     "height": 282
    },
    "colab_type": "code",
    "id": "Yt_uR2tj53iQ",
    "outputId": "808ccc68-6062-48ba-8cd2-169647bb9725"
   },
   "outputs": [
    {
     "data": {
      "text/plain": [
       "[<matplotlib.lines.Line2D at 0x7fa05382d208>]"
      ]
     },
     "execution_count": 159,
     "metadata": {
      "tags": []
     },
     "output_type": "execute_result"
    },
    {
     "data": {
      "image/png": "[encoded data removed]",
      "text/plain": [
       "<Figure size 432x288 with 1 Axes>"
      ]
     },
     "metadata": {
      "tags": []
     },
     "output_type": "display_data"
    }
   ],
   "source": [
    "import matplotlib.pyplot as plt\n",
    "import matplotlib.ticker as ticker\n",
    "%matplotlib inline\n",
    "\n",
    "plt.figure()\n",
    "plt.plot(all_losses)"
   ]
  },
  {
   "cell_type": "markdown",
   "metadata": {
    "colab_type": "text",
    "id": "gfqR8SN6yJ3s"
   },
   "source": [
    "# Comparing perplexities for similar and different validation sets"
   ]
  },
  {
   "cell_type": "code",
   "execution_count": 160,
   "metadata": {
    "colab": {
     "base_uri": "https://localhost:8080/",
     "height": 52
    },
    "colab_type": "code",
    "id": "Dfk29yhlySad",
    "outputId": "9796fa85-42b5-43a2-a2c9-6fc36f149ee4"
   },
   "outputs": [
    {
     "name": "stdout",
     "output_type": "stream",
     "text": [
      "Similar dataset perplexity : 5.412911452077031\n",
      "Different dataset perplexity : 11.023044967539768\n"
     ]
    }
   ],
   "source": [
    "print(\"Similar dataset perplexity : \" + str(get_perplexity(similar_val_set)))\n",
    "print(\"Different dataset perplexity : \" + str(get_perplexity(diff_val_set)))"
   ]
  },
  {
   "cell_type": "markdown",
   "metadata": {
    "colab_type": "text",
    "id": "XW2HU4jX53ie"
   },
   "source": [
    "# Evaluating at different \"temperatures\"\n",
    "\n",
    "In the `evaluate` function above, every time a prediction is made the outputs are divided by the \"temperature\" argument passed. Using a higher number makes all actions more equally likely, and thus gives us \"more random\" outputs. Using a lower value (less than 1) makes high probabilities contribute more. As we turn the temperature towards zero we are choosing only the most likely outputs.\n",
    "\n",
    "We can see the effects of this by adjusting the `temperature` argument."
   ]
  },
  {
   "cell_type": "code",
   "execution_count": 164,
   "metadata": {
    "colab": {
     "base_uri": "https://localhost:8080/",
     "height": 54
    },
    "colab_type": "code",
    "id": "_MIDjskk53ie",
    "outputId": "735b35da-f7e8-4388-abbc-5a7daccaa977"
   },
   "outputs": [
    {
     "name": "stdout",
     "output_type": "stream",
     "text": [
      "The have to do it to it workes like the have to every note. It's because the protion at like they don't let all of the can't let it for every one of the say they are that big me the done, the would the \n"
     ]
    }
   ],
   "source": [
    "print(evaluate('Th', 200, temperature=0.6))"
   ]
  },
  {
   "cell_type": "markdown",
   "metadata": {
    "colab_type": "text",
    "id": "IgmJvb5Q53ik"
   },
   "source": [
    "Lower temperatures are less varied, choosing only the more probable outputs:"
   ]
  },
  {
   "cell_type": "code",
   "execution_count": 162,
   "metadata": {
    "colab": {
     "base_uri": "https://localhost:8080/",
     "height": 54
    },
    "colab_type": "code",
    "id": "EgwmxNQF53il",
    "outputId": "60b249f9-54b8-48e9-a9af-a2f80b6ca69f"
   },
   "outputs": [
    {
     "name": "stdout",
     "output_type": "stream",
     "text": [
      "The people the said I said \"Well and the come and the some of the come of the come of the for the country it the been the better the can and the better the come it the be the better the so be a lot the \n"
     ]
    }
   ],
   "source": [
    "print(evaluate('Th', 200, temperature=0.2))"
   ]
  },
  {
   "cell_type": "markdown",
   "metadata": {
    "colab_type": "text",
    "id": "MCEefW_j53in"
   },
   "source": [
    "Higher temperatures more varied, choosing less probable outputs:"
   ]
  },
  {
   "cell_type": "code",
   "execution_count": 163,
   "metadata": {
    "colab": {
     "base_uri": "https://localhost:8080/",
     "height": 54
    },
    "colab_type": "code",
    "id": "PM0VASdl53io",
    "outputId": "bc647b68-4e77-4d73-f640-018abdf2c4f2"
   },
   "outputs": [
    {
     "name": "stdout",
     "output_type": "stream",
     "text": [
      "Thesafleal fight -ore for makevoned, whocle conney's use Pact if bin, the wel rid leat. Ss whose vet a preage's nyid, get's gest a fabuaugh, Maxffof one in a. I veh mirst rime Diggy. Flino, it Mun(ppre \n"
     ]
    }
   ],
   "source": [
    "print(evaluate('Th', 200, temperature=1.4))"
   ]
  },
  {
   "cell_type": "markdown",
   "metadata": {
    "colab_type": "text",
    "collapsed": true,
    "id": "ry6B9wIp53ir"
   },
   "source": [
    "# Exercises\n",
    "\n",
    "* Train with your own dataset, e.g.\n",
    "    * Text from another author\n",
    "    * Blog posts\n",
    "    * Code\n",
    "* Increase number of layers and network size to get better results"
   ]
  },
  {
   "cell_type": "markdown",
   "metadata": {
    "colab_type": "text",
    "id": "t59r437l53is"
   },
   "source": [
    "**Next**: [Generating Names with a Conditional Character-Level RNN](https://github.com/spro/practical-pytorch/blob/master/conditional-char-rnn/conditional-char-rnn.ipynb)"
   ]
  }
 ],
 "metadata": {
  "accelerator": "GPU",
  "anaconda-cloud": {},
  "colab": {
   "collapsed_sections": [],
   "name": "char_generation.ipynb",
   "provenance": []
  },
  "kernelspec": {
   "display_name": "Python 3",
   "language": "python",
   "name": "python3"
  },
  "language_info": {
   "codemirror_mode": {
    "name": "ipython",
    "version": 3
   },
   "file_extension": ".py",
   "mimetype": "text/x-python",
   "name": "python",
   "nbconvert_exporter": "python",
   "pygments_lexer": "ipython3",
   "version": "3.8.1"
  }
 },
 "nbformat": 4,
 "nbformat_minor": 1
}
